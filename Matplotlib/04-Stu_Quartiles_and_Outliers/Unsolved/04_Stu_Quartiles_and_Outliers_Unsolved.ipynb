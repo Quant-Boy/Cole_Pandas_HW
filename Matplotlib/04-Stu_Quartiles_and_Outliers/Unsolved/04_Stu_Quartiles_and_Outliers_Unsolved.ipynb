{
 "cells": [
  {
   "cell_type": "code",
   "execution_count": 2,
   "metadata": {
    "collapsed": true
   },
   "outputs": [],
   "source": [
    "# Imports\n",
    "import numpy as np\n",
    "import matplotlib.pyplot as plt"
   ]
  },
  {
   "cell_type": "code",
   "execution_count": 3,
   "metadata": {
    "collapsed": true
   },
   "outputs": [],
   "source": [
    "arr = np.array([8, 8, 17, 24, 54, 78, 89, 102, 132])"
   ]
  },
  {
   "cell_type": "code",
   "execution_count": 8,
   "metadata": {},
   "outputs": [
    {
     "data": {
      "text/plain": [
       "(0, 9)"
      ]
     },
     "execution_count": 8,
     "metadata": {},
     "output_type": "execute_result"
    }
   ],
   "source": [
    "# Calculate the indices for median, lower and upper quartiles\n",
    "xrange = (0, len(arr))\n",
    "lim = 1.1*max(abs(arr))\n",
    "yrange = (0, lim)\n",
    "\n",
    "\n",
    "\n"
   ]
  },
  {
   "cell_type": "code",
   "execution_count": null,
   "metadata": {
    "collapsed": true,
    "scrolled": true
   },
   "outputs": [],
   "source": [
    "# Retrieve the median value, lower and upper quartiles\n",
    "med = np.median(arr)\n",
    "quartiles = np.percentile(arr, [25, 75])"
   ]
  },
  {
   "cell_type": "code",
   "execution_count": 9,
   "metadata": {},
   "outputs": [
    {
     "name": "stdout",
     "output_type": "stream",
     "text": [
      "Quartiles:  17.0 , 89.0\n",
      "Interquartile range:  72.0\n"
     ]
    }
   ],
   "source": [
    "# Calculate the interquartile range\n",
    "lower_quartile, upper_quartile = np.percentile(arr, [25, 75])\n",
    "print('Quartiles: ', lower_quartile, ',', upper_quartile)\n",
    "\n",
    "interquartile_range = upper_quartile-lower_quartile\n",
    "print('Interquartile range: ', interquartile_range)"
   ]
  },
  {
   "cell_type": "code",
   "execution_count": 18,
   "metadata": {},
   "outputs": [
    {
     "data": {
      "text/plain": [
       "array([102, 132])"
      ]
     },
     "execution_count": 18,
     "metadata": {},
     "output_type": "execute_result"
    }
   ],
   "source": [
    "# Create three new arrays from original data:\n",
    "# - 1 array containing all of the data between the lower and \n",
    "#      upper quartiles (data that you will keep)\n",
    "# - 1 array containing all of the data below the lower quartile\n",
    "# - 1 array containing all of the data above the upper quartile\n",
    "\n",
    "#xlim = ax.get_xlim()\n",
    "#ylim = ax.get_ylim()\n",
    "\n",
    "upper=arr[arr>upper_quartile]\n",
    "upper\n"
   ]
  },
  {
   "cell_type": "code",
   "execution_count": null,
   "metadata": {
    "collapsed": true
   },
   "outputs": [],
   "source": [
    "# Create a plot displaying included and excluded data\n"
   ]
  },
  {
   "cell_type": "code",
   "execution_count": null,
   "metadata": {
    "collapsed": true
   },
   "outputs": [],
   "source": []
  }
 ],
 "metadata": {
  "kernelspec": {
   "display_name": "Python (PythonData)",
   "language": "python",
   "name": "pythondata"
  },
  "language_info": {
   "codemirror_mode": {
    "name": "ipython",
    "version": 3
   },
   "file_extension": ".py",
   "mimetype": "text/x-python",
   "name": "python",
   "nbconvert_exporter": "python",
   "pygments_lexer": "ipython3",
   "version": "3.6.3"
  }
 },
 "nbformat": 4,
 "nbformat_minor": 2
}
